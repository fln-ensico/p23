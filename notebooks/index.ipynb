{
 "cells": [
  {
   "cell_type": "markdown",
   "id": "0ba2c41a-8320-42d4-bc37-5a870c1f314f",
   "metadata": {},
   "source": [
    "© 2020-2023 ENSICO. Todos os direitos reservados\n",
    "<hr>"
   ]
  },
  {
   "cell_type": "markdown",
   "id": "0d8f6333-7aae-4bf6-82c4-c9649b9f1402",
   "metadata": {},
   "source": [
    "<span style=\"font-size:2rem;\">Olá! 😁</span>\n",
    "<div style=\"background:#3859ff; color:white; font-size:2rem; padding:1rem; margin:1rem 0;\">\n",
    "    Bem-vindo ao Jupyter da <b>ENSICO</b>!\n",
    "    <br/>\n",
    "    <b>Atividades de programação 🤩🤩🤩</b>\n",
    "</div>\n",
    "<hr>"
   ]
  },
  {
   "cell_type": "markdown",
   "id": "78076295",
   "metadata": {},
   "source": [
    "Por exemplo, substitui \"ENSICO\" pelo **teu nome** na caixa abaixo e depois carrega no botão ![image.png](./assets/play.PNG) (que está na barra em cima)."
   ]
  },
  {
   "cell_type": "code",
   "execution_count": null,
   "id": "add67378-985e-42f5-87e3-324e30cdd46f",
   "metadata": {
    "tags": []
   },
   "outputs": [
    {
     "data": {
      "text/plain": [
       "Olá ENSICO! 😃"
      ]
     },
     "metadata": {},
     "output_type": "display_data"
    }
   ],
   "source": [
    "nome = \"ENSICO\"\n",
    "mensagem = \"Olá \" ++ nome ++ \"! 😃\"\n",
    "putStrLn mensagem"
   ]
  },
  {
   "cell_type": "markdown",
   "id": "2f63be0b-e46c-4def-8e75-953f03b4a5a0",
   "metadata": {
    "tags": []
   },
   "source": [
    "## Ir para a atividade da...\n",
    "\n",
    "* **aula-1** [“Fecho-éclair” de Sequências](./aula-1.ipynb)\n",
    "* **aula-2** [Dicionários](./aula-2.ipynb)\n",
    "* **aula-3** [Brincando com Palavras – Trocas de Vogais](./aula-3.ipynb)\n",
    "* **aula-4** [Aula Prática – A Língua 01 e a Língua VM](./aula-4.ipynb)\n",
    "* **aula-5** [Brincando com Palavras – A Língua do P e a Língua do Yoda - Parte I](./aula-5-a.ipynb)\n",
    "* **aula-5** [Brincando com Palavras – A Língua do P e a Língua do Yoda - Parte II](./aula-5-b-ipynb)\n",
    "* **aula-6** [Operadores e Circuitos Lógicos](./aula-6.ipynb)\n",
    "* **aula-7** [Grafos (Sem Etiquetas)](./aula-7.ipynb)\n",
    "* **aula-8** [Grafos (Com Etiquetas)](./aula-8.ipynb)\n",
    "* **aula-9** [Grafos Pesados e Itinerários](./aula-9.ipynb)\n",
    "* **aula-10** [Aula Prática Assistida – Instagram](./aula-10.ipynb)\n",
    "* **aula-11** [Aula Prática – Campeonato de Futebol](./aula-11.ipynb)\n",
    "* **aula-12** [Valores Booleanos](./aula-12.ipynb)"
   ]
  },
  {
   "cell_type": "code",
   "execution_count": null,
   "id": "50923b21-41d6-4047-8f28-48283024f7a4",
   "metadata": {},
   "outputs": [],
   "source": []
  }
 ],
 "metadata": {
  "kernelspec": {
   "display_name": "Haskell",
   "language": "haskell",
   "name": "haskell"
  },
  "language_info": {
   "codemirror_mode": "ihaskell",
   "file_extension": ".hs",
   "mimetype": "text/x-haskell",
   "name": "haskell",
   "pygments_lexer": "Haskell",
   "version": "8.10.7"
  }
 },
 "nbformat": 4,
 "nbformat_minor": 5
}
