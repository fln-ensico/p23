{
 "cells": [
  {
   "cell_type": "markdown",
   "id": "0ba2c41a-8320-42d4-bc37-5a870c1f314f",
   "metadata": {},
   "source": [
    "© 2020-2023 ENSICO. Todos os direitos reservados\n",
    "<hr>"
   ]
  },
  {
   "cell_type": "markdown",
   "id": "0d8f6333-7aae-4bf6-82c4-c9649b9f1402",
   "metadata": {},
   "source": [
    "<span style=\"font-size:2rem;\">Olá! 😁</span>\n",
    "<div style=\"background:#3859ff; color:white; font-size:2rem; padding:1rem; margin:1rem 0;\">\n",
    "    Bem-vindo ao Jupyter da Ensico!\n",
    "    <br/>\n",
    "    <b>Aqui podes experimentar programação 🤩🤩🤩</b>\n",
    "</div>\n",
    "<hr>"
   ]
  },
  {
   "cell_type": "markdown",
   "id": "78076295",
   "metadata": {},
   "source": [
    "Por exemplo, substitui \"Eva\" pelo **teu nome** na caixa abaixo e depois carrega no botão ![image.png](./assets/play.PNG) (que está na barra em cima)."
   ]
  },
  {
   "cell_type": "code",
   "execution_count": null,
   "id": "add67378-985e-42f5-87e3-324e30cdd46f",
   "metadata": {},
   "outputs": [
    {
     "data": {
      "text/plain": [
       "Olá Eva! 😃"
      ]
     },
     "metadata": {},
     "output_type": "display_data"
    }
   ],
   "source": [
    "oMeuNome = \"Eva\"\n",
    "mensagem = \"Olá \" ++ oMeuNome ++ \"! 😃\"\n",
    "putStrLn mensagem"
   ]
  },
  {
   "cell_type": "markdown",
   "id": "2f63be0b-e46c-4def-8e75-953f03b4a5a0",
   "metadata": {
    "tags": []
   },
   "source": [
    "<br><br><hr>\n",
    "## Ir para ...\n",
    "\n",
    "- a [Aula 17 - Sequências Numéricas e transformações (parte 1)](./aula17.ipynb)"
   ]
  }
 ],
 "metadata": {
  "kernelspec": {
   "display_name": "Haskell",
   "language": "haskell",
   "name": "haskell"
  },
  "language_info": {
   "codemirror_mode": "ihaskell",
   "file_extension": ".hs",
   "mimetype": "text/x-haskell",
   "name": "haskell",
   "pygments_lexer": "Haskell",
   "version": "8.10.7"
  }
 },
 "nbformat": 4,
 "nbformat_minor": 5
}
